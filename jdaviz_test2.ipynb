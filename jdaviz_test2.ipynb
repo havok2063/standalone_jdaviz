{
 "cells": [
  {
   "cell_type": "markdown",
   "metadata": {},
   "source": [
    "This notebook is for the prototype z.mast spectroscopic viewer using the [jdaviz](https://jdaviz.readthedocs.io/en/latest/) package."
   ]
  },
  {
   "cell_type": "code",
   "execution_count": 7,
   "metadata": {},
   "outputs": [],
   "source": [
    "import os\n",
    "import ipyvuetify as v\n",
    "import ipywidgets as widgets\n",
    "import traitlets\n",
    "\n",
    "from jdaviz.app import Application\n",
    "from jdaviz.core.config import get_configuration\n",
    "from jdaviz import SpecViz"
   ]
  },
  {
   "cell_type": "code",
   "execution_count": 15,
   "metadata": {},
   "outputs": [],
   "source": [
    "# local test file\n",
    "#jwst_test_file = 'jw00668-o007_s00582_nirspec_f070lp-g140m_x1d.fits'"
   ]
  },
  {
   "cell_type": "code",
   "execution_count": 9,
   "metadata": {},
   "outputs": [],
   "source": [
    "# this is a widget for debugging\n",
    "out = widgets.Output()\n",
    "out.add_traits(_metadata=traitlets.Dict(default_value={'mount_id': 'out'}).tag(sync=True))"
   ]
  },
  {
   "cell_type": "code",
   "execution_count": 16,
   "metadata": {},
   "outputs": [],
   "source": [
    "# create a custom specviz configuration without the data tools section of toolbar.  \n",
    "# this prevents the user from importing local data.\n",
    "# cc = get_configuration('specviz')\n",
    "# vis = {'menu_bar': False, 'toolbar': False, 'tray': False, 'tab_headers': False}\n",
    "# cc['settings']['visible'] = vis\n",
    "# cc['toolbar'].remove('g-data-tools') if cc['toolbar'].count('g-data-tools') else None\n",
    "\n",
    "# # create the SpecViz application and load the test data\n",
    "# with out:\n",
    "#     print('loading test file', jwst_test_file)\n",
    "#     app = Application(cc)\n",
    "#     spec = SpecViz(app)\n",
    "#     spec.load_data(jwst_test_file)"
   ]
  },
  {
   "cell_type": "markdown",
   "metadata": {},
   "source": [
    "We need to create an [ipyvuetify](https://ipyvuetify.readthedocs.io/en/latest/) container of some kind and mount it to an id.  The container can be anything you want.  We create a Vuetify Column of width-9 since we know ahead of time it will be embedded inside a Vuetify <v-row\\> element.  We add the jdaviz Application as a child object.  The new element is accessed in the client front end with a Vue **jupyter-widget-embed** component, pointing it to the url of the Voila server, the name of the notebook, and the mount ID of the element to embed, e.g. `<jupyter-widget-embed voila-url=\"http://localhost:8000\" notebook=\"jdaviz_zmast.ipynb\" mount-id=\"specviz\"> </jupyter-widget-embed>`"
   ]
  },
  {
   "cell_type": "code",
   "execution_count": null,
   "metadata": {},
   "outputs": [],
   "source": [
    "@out.capture()\n",
    "def update_data_handler(widget, event, data):\n",
    "    datafile = data\n",
    "    # dynamically identify data and which jdaviz configuration to create\n",
    "    cc = get_configuration('specviz')\n",
    "    vis = {'menu_bar': False, 'toolbar': False, 'tray': False, 'tab_headers': False}\n",
    "    cc['settings']['visible'] = vis\n",
    "    cc['toolbar'].remove('g-data-tools') if cc['toolbar'].count('g-data-tools') else None\n",
    "\n",
    "    app = Application(configuration=cc)\n",
    "    spec = SpecViz(app)\n",
    "    spec.load_data(datafile)\n",
    "    \n",
    "    col.children = [app]"
   ]
  },
  {
   "cell_type": "code",
   "execution_count": 17,
   "metadata": {},
   "outputs": [],
   "source": [
    "#for prototype - simply place the application in the ipyvuetify column\n",
    "#future - this will need to be replaced with a function that updates the specviz application and data based on the filename from the client web server\n",
    "with out:\n",
    "    col = v.Col(_metadata={'mount_id': 'specviz'}, children=[\"Loading JdaViz Tools...\"])\n",
    "\n",
    "col.on_event('load', update_data_handler)"
   ]
  },
  {
   "cell_type": "code",
   "execution_count": null,
   "metadata": {},
   "outputs": [],
   "source": []
  }
 ],
 "metadata": {
  "kernelspec": {
   "display_name": "Python 3",
   "language": "python",
   "name": "python3"
  },
  "language_info": {
   "codemirror_mode": {
    "name": "ipython",
    "version": 3
   },
   "file_extension": ".py",
   "mimetype": "text/x-python",
   "name": "python",
   "nbconvert_exporter": "python",
   "pygments_lexer": "ipython3",
   "version": "3.8.1"
  }
 },
 "nbformat": 4,
 "nbformat_minor": 4
}
